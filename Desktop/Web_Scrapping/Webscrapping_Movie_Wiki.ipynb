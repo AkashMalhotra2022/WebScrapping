{
 "cells": [
  {
   "cell_type": "markdown",
   "id": "4fe20555-5843-4f50-8d20-24a77f6d5c03",
   "metadata": {},
   "source": [
    "### Import Necessary libraries"
   ]
  },
  {
   "cell_type": "code",
   "execution_count": null,
   "id": "0e542c55-fd16-4f5d-b6c5-1144d2ea7d2b",
   "metadata": {},
   "outputs": [],
   "source": [
    "from bs4 import BeautifulSoup as bs\n",
    "import requests"
   ]
  },
  {
   "cell_type": "markdown",
   "id": "e89e4526-e5f0-4a9a-92fc-ab03ce21b45d",
   "metadata": {},
   "source": [
    "### Load the webpage"
   ]
  },
  {
   "cell_type": "code",
   "execution_count": null,
   "id": "bec53d40-5c5b-4040-b6fd-86501c4607e0",
   "metadata": {},
   "outputs": [],
   "source": [
    "r= requests.get('https://en.wikipedia.org/wiki/Toy_Story_3')\n",
    "soup = bs(r.content)\n"
   ]
  },
  {
   "cell_type": "markdown",
   "id": "de0c76c6-72ea-497f-a575-f2823d1b2d89",
   "metadata": {},
   "source": [
    "## Task 1: Get Movie info for 1 Movie"
   ]
  },
  {
   "cell_type": "code",
   "execution_count": null,
   "id": "84c78f7d-ff20-4dfe-ac4c-797fbf767bd2",
   "metadata": {
    "scrolled": true
   },
   "outputs": [],
   "source": [
    "info_box_content=soup.find(class_='infobox vevent')\n",
    "# print(content.prettify())\n",
    "info_row = info_box_content.find_all(\"tr\")\n",
    "# print(info_row)\n",
    "for index,row in enumerate(info_row):\n",
    "    print(index,row.prettify());"
   ]
  },
  {
   "cell_type": "code",
   "execution_count": null,
   "id": "e10de291-1d93-4dce-8de6-b8d5ae85da4e",
   "metadata": {},
   "outputs": [],
   "source": [
    "def get_content_info(row_data):\n",
    "    if row_data.find('li'):\n",
    "        return[li.get_text(' ', strip= True).replace('\\xa0','') for li in row_data.find_all('li')]\n",
    "    elif row_data.find('br'):\n",
    "        return [text for text in row_data.stripped_strings]\n",
    "    else:\n",
    "        return row_data.get_text(' ', strip= True).replace('\\xa0','')"
   ]
  },
  {
   "cell_type": "code",
   "execution_count": null,
   "id": "5e0840da-77ee-4850-af19-f545af6a1d34",
   "metadata": {},
   "outputs": [],
   "source": [
    "movie_info = {}\n",
    "\n",
    "for index,row in enumerate(info_row):\n",
    "    if index ==0:\n",
    "        movie_info['title']= row.find('th').get_text(' ', strip= True)\n",
    "    elif index ==1:\n",
    "        continue\n",
    "    else:\n",
    "        content_key = row.find('th').get_text(' ', strip= True)\n",
    "        content_value = get_content_info(row.find('td'))\n",
    "        movie_info[content_key]=content_value\n",
    "movie_info\n",
    "\n"
   ]
  },
  {
   "cell_type": "markdown",
   "id": "e05fa8bb-259a-4091-9510-135b49181331",
   "metadata": {},
   "source": [
    "## Task 2: Get info content for all the movies"
   ]
  },
  {
   "cell_type": "code",
   "execution_count": null,
   "id": "4b27a37c-12f4-424b-aa2f-065de809de90",
   "metadata": {
    "scrolled": true
   },
   "outputs": [],
   "source": [
    "def clean_tag(soup):\n",
    "    for tag in soup.find_all(['sup','span']):\n",
    "        tag.decompose()"
   ]
  },
  {
   "cell_type": "code",
   "execution_count": null,
   "id": "5dbafaf0-b42f-4e12-afbd-0afb2d18e44f",
   "metadata": {
    "scrolled": true
   },
   "outputs": [],
   "source": [
    "def get_movie_info (url):\n",
    "        r= requests.get(url)\n",
    "        soup = bs(r.content)\n",
    "        info_box_content=soup.find(class_='infobox vevent')\n",
    "        # print(content.prettify())\n",
    "        info_row = info_box_content.find_all(\"tr\")\n",
    "        clean_tag(soup)\n",
    "    \n",
    "        movie_info = {}\n",
    "        for index,row in enumerate(info_row):\n",
    "            if index ==0:\n",
    "                movie_info['title']= row.find('th').get_text(' ', strip= True)\n",
    "            # Not adding this line because in some of the movie th is missing\n",
    "            # elif index ==1:\n",
    "            #     continue\n",
    "            else:\n",
    "                header = row.find('th')\n",
    "                if header:\n",
    "                    content_key = row.find('th').get_text(' ', strip= True)\n",
    "                    content_value = get_content_info(row.find('td'))\n",
    "                    movie_info[content_key]=content_value\n",
    "        return movie_info\n",
    "\n"
   ]
  },
  {
   "cell_type": "code",
   "execution_count": null,
   "id": "f5a97d38-701d-480e-aead-f411ccb57d46",
   "metadata": {},
   "outputs": [],
   "source": [
    "get_movie_info('https://en.wikipedia.org/wiki/So_Dear_to_My_Heart')"
   ]
  },
  {
   "cell_type": "code",
   "execution_count": null,
   "id": "f810977e-2c99-4ef6-8257-edf7c725c3f3",
   "metadata": {},
   "outputs": [],
   "source": [
    "r= requests.get('https://en.wikipedia.org/wiki/List_of_Walt_Disney_Pictures_films')\n",
    "soup= bs(r.content)\n",
    "movie_data = soup.select('.wikitable.sortable i a')\n",
    "print(len(movie_data))\n",
    "movie_list=[]\n",
    "base_path ='https://en.wikipedia.org/'\n",
    "\n",
    "for index, movies in enumerate(movie_data):\n",
    "    try:\n",
    "        url=movies['href']\n",
    "        title = movies['title']\n",
    "        full_path = base_path+ url\n",
    "        movie_list.append(get_movie_info(full_path))\n",
    "    except Exception as e:\n",
    "        print(movies.get_text())\n",
    "        print(e)\n",
    "    "
   ]
  },
  {
   "cell_type": "code",
   "execution_count": null,
   "id": "9f14c435-80bc-4cca-bcad-9e3eac936d5a",
   "metadata": {
    "scrolled": true
   },
   "outputs": [],
   "source": [
    "len(movie_list)"
   ]
  },
  {
   "cell_type": "markdown",
   "id": "78cfa43c-025e-44eb-b068-a1cbc39fbaee",
   "metadata": {},
   "source": [
    "## Task 3: Save/Reload Movie Data"
   ]
  },
  {
   "cell_type": "code",
   "execution_count": null,
   "id": "772d2afe-3995-4847-84b4-16ec5b513d1f",
   "metadata": {},
   "outputs": [],
   "source": [
    "import json\n",
    "\n",
    "def save_data(title, data):\n",
    "    with open(title, 'w', encoding ='utf-8') as f:\n",
    "        json.dump(data, f, indent=2, ensure_ascii=False)"
   ]
  },
  {
   "cell_type": "code",
   "execution_count": null,
   "id": "3ddc4f28-5697-494a-8d6a-20aa08cf2e29",
   "metadata": {},
   "outputs": [],
   "source": [
    "import json\n",
    "\n",
    "def load_data(title):\n",
    "    with open(title, encoding ='utf-8') as f:\n",
    "        return json.load(f)"
   ]
  },
  {
   "cell_type": "code",
   "execution_count": null,
   "id": "f5e5d980-f95b-4a8d-8baf-85131641328a",
   "metadata": {},
   "outputs": [],
   "source": [
    "save_data('movie_metadata.json', movie_list)"
   ]
  },
  {
   "cell_type": "markdown",
   "id": "b5b30ea4-51f8-4f28-ad3e-ba9cb6c02e4c",
   "metadata": {},
   "source": [
    "## Task 4: Clean our data"
   ]
  },
  {
   "cell_type": "code",
   "execution_count": null,
   "id": "503ecb75-b554-43ab-b45c-85b76b8fa44c",
   "metadata": {},
   "outputs": [],
   "source": [
    "movie_info = load_data('movie_metadata.json')"
   ]
  },
  {
   "cell_type": "markdown",
   "id": "06e0fec6-7480-4aef-82bd-9727fbd9588e",
   "metadata": {},
   "source": [
    "### Subtask\n",
    "- Clean up reference [1]\n",
    "- Convert data to datetime object\n",
    "- Split up the long string\n",
    "- Convert runtime into integer\n",
    "- Conver Budget and Box-office collection to numbers"
   ]
  },
  {
   "cell_type": "code",
   "execution_count": null,
   "id": "336432d7-5073-4b9c-82e3-d14ce4ef4998",
   "metadata": {},
   "outputs": [],
   "source": [
    "# Clean up the references([1] [2] etc)"
   ]
  },
  {
   "cell_type": "code",
   "execution_count": null,
   "id": "6d75a200-dc1b-4b9f-8d54-c9e3c12dbc59",
   "metadata": {},
   "outputs": [],
   "source": [
    "# Split up the long strings"
   ]
  },
  {
   "cell_type": "code",
   "execution_count": null,
   "id": "171d17af-ce1d-4646-afb2-542846bf8f34",
   "metadata": {},
   "outputs": [],
   "source": [
    "def clean_movie_Runtime (running_time):\n",
    "    if running_time == 'N/A' or running_time is None:\n",
    "        return None\n",
    "    if isinstance(running_time, int):\n",
    "        return running_time\n",
    "    if isinstance(running_time, list):\n",
    "        # entry = running_time[0]\n",
    "        return int(running_time[0].split(\" \")[0])\n",
    "    if isinstance(running_time, str):\n",
    "            # Extract only numeric characters\n",
    "            numeric_chars = ''.join(char for char in running_time if char.isdigit())\n",
    "            if numeric_chars:\n",
    "                return int(numeric_chars)\n",
    "            else:\n",
    "                return None\n",
    "    else:\n",
    "        return int(running_time.split(\" \")[0])\n",
    "\n",
    "# print(clean_movie_Runtime(\"85 minutes\"))\n",
    "\n",
    "for movies in movie_info:\n",
    "    movies['Running time (int)'] = clean_movie_Runtime(movies.get('Running time',\"N/A\"))"
   ]
  },
  {
   "cell_type": "code",
   "execution_count": null,
   "id": "8b29c0bd-0244-4359-9b67-19f37d0157a4",
   "metadata": {},
   "outputs": [],
   "source": [
    "movie_info[-50]"
   ]
  },
  {
   "cell_type": "code",
   "execution_count": null,
   "id": "e08d4fb6-2602-4218-8b34-2c8b30137da7",
   "metadata": {
    "scrolled": true
   },
   "outputs": [],
   "source": [
    "[movie.get('Budget','N/A') for movie in movie_info]"
   ]
  },
  {
   "cell_type": "code",
   "execution_count": null,
   "id": "50b59aa1-7f5f-4e67-8d48-5459b26dd6cf",
   "metadata": {},
   "outputs": [],
   "source": [
    "import re"
   ]
  },
  {
   "cell_type": "code",
   "execution_count": null,
   "id": "aa7600d2-4abb-441c-9fb3-2bb7e030c66a",
   "metadata": {},
   "outputs": [],
   "source": [
    "amounts = r\"thousand|million|billion\"\n",
    "number = r\"\\d+(,\\d{3})*\\.*\\d*\"\n",
    "\n",
    "word_re = rf\"\\${number}(-|\\s to\\s|–)?({number})?\\s({amounts})\"\n",
    "value_re = rf\"\\${number}\"\n",
    "\n",
    "def word_to_value(word):\n",
    "    value_dict = {\"thousand\":1000,\"million\":1000000,\"billion\":1000000000}\n",
    "    return value_dict[word]\n",
    "\n",
    "def parse_word_syntax(string):\n",
    "    value_string = re.search(number, string).group()\n",
    "    value = float(value_string.replace(\",\",\"\"))\n",
    "    word = re.search(amounts, string, flags=re.I).group().lower()\n",
    "    word_value = word_to_value(word)\n",
    "    return value * word_value\n",
    "    \n",
    "\n",
    "def parse_value_syntax(string):\n",
    "    value_string = re.search(number, string).group()\n",
    "    value = float(value_string.replace(\",\",\"\"))\n",
    "    return value\n",
    "\n",
    "def money_conversion(money):\n",
    "    if money =='N/A':\n",
    "        return None\n",
    "\n",
    "    if isinstance(money, list):\n",
    "        money = money[0]\n",
    "    word_syntax = re.search(word_re, money, flags=re.I)\n",
    "    value_syntax = re.search(value_re, money)\n",
    "\n",
    "    if word_syntax:\n",
    "        return parse_word_syntax(word_syntax.group())\n",
    "\n",
    "    elif value_syntax:\n",
    "        return parse_value_syntax(value_syntax.group())\n",
    "    else:\n",
    "        return None\n",
    "    \n",
    "# # print(re.search(word_re,\"$12.2 million\").group())\n",
    "# print(money_conversion('$790 Million'))"
   ]
  },
  {
   "cell_type": "code",
   "execution_count": null,
   "id": "78417ca8-30fc-4e4d-9fa7-0b732f7deb86",
   "metadata": {
    "scrolled": true
   },
   "outputs": [],
   "source": [
    "for movie in movie_info:\n",
    "    movie['Budget (float)'] = money_conversion(movie.get('Budget','N/A'))\n",
    "    movie['Box office (float)'] = money_conversion(movie.get('Box office','N/A'))"
   ]
  },
  {
   "cell_type": "code",
   "execution_count": null,
   "id": "98fa7a43-1939-4d26-b41c-607c10ea8064",
   "metadata": {},
   "outputs": [],
   "source": [
    "movie_info[-10]"
   ]
  },
  {
   "cell_type": "code",
   "execution_count": null,
   "id": "598c466a-84c6-41d6-b19e-7a0870bff52a",
   "metadata": {
    "scrolled": true
   },
   "outputs": [],
   "source": [
    "[movie.get('Release date','N/A') for movie in movie_info]"
   ]
  },
  {
   "cell_type": "code",
   "execution_count": null,
   "id": "3cd66995-5909-499f-b296-60ee9d9ffce7",
   "metadata": {},
   "outputs": [],
   "source": [
    "from datetime import datetime"
   ]
  },
  {
   "cell_type": "code",
   "execution_count": null,
   "id": "70dcb75d-226d-4fde-b0f0-0c9f8e3ca95d",
   "metadata": {},
   "outputs": [],
   "source": [
    "def clean_date()"
   ]
  },
  {
   "cell_type": "code",
   "execution_count": null,
   "id": "b2f3742f-dff4-48fe-a2ea-e7420ba03af1",
   "metadata": {},
   "outputs": [],
   "source": [
    "def date_conversion(date):\n",
    "    if isinstance(date, list):\n",
    "        date = date[0]\n",
    "    if date == 'N/A':\n",
    "        return None\n",
    "    date_str = clean_date(date)\n",
    "    fmts = [\"%B%d,%Y\", \"%d %B %Y\", \"%B%Y\", \"%d%B%Y\"]\n",
    "    for fmt in fmts:\n",
    "        try:\n",
    "            return datetime.strptime(date_str, fmt)\n",
    "        except:\n",
    "            continue\n",
    "    return None\n",
    "\n",
    "# Use the first available date\n",
    "for movie in movie_info:\n",
    "    release_date = movie.get('Release date', 'N/A')\n",
    "    release_dates = movie.get('Release dates', 'N/A')\n",
    "    \n",
    "    # Try Release date first, then Release dates\n",
    "    if release_date != 'N/A':\n",
    "        movie['Release date (datetime)'] = date_conversion(release_date)\n",
    "    elif release_dates != 'N/A':\n",
    "        movie['Release date (datetime)'] = date_conversion(release_dates)\n",
    "    else:\n",
    "        movie['Release date (datetime)'] = None"
   ]
  },
  {
   "cell_type": "code",
   "execution_count": null,
   "id": "5bf01579-3165-4798-a3a5-432610e7f425",
   "metadata": {
    "scrolled": true
   },
   "outputs": [],
   "source": [
    "movie_info[0:10]"
   ]
  },
  {
   "cell_type": "code",
   "execution_count": null,
   "id": "5e8d7280-0abb-41bb-8c8b-43db49863c03",
   "metadata": {},
   "outputs": [],
   "source": [
    "import pickle"
   ]
  },
  {
   "cell_type": "code",
   "execution_count": null,
   "id": "1550a485-97fd-42b8-9ab5-54fa5d763ece",
   "metadata": {},
   "outputs": [],
   "source": [
    "def save_json_data(name, data):\n",
    "    with open(name,'wb') as f:\n",
    "        pickle.dump(data,f)"
   ]
  },
  {
   "cell_type": "code",
   "execution_count": null,
   "id": "c991dfd1-cc2c-4757-8687-41741922dccd",
   "metadata": {},
   "outputs": [],
   "source": [
    "def load_json_data(name):\n",
    "    with open(name,'rb') as f:\n",
    "        return pickle.load(f)"
   ]
  },
  {
   "cell_type": "code",
   "execution_count": null,
   "id": "c5cda5c1-4674-44b9-a6b9-614507e9c62c",
   "metadata": {},
   "outputs": [],
   "source": [
    "save_json_data('modified_cleaned_data.pickle', movie_info)"
   ]
  },
  {
   "cell_type": "code",
   "execution_count": null,
   "id": "fc4c122b-1326-43e4-bced-6fa0de4a25b7",
   "metadata": {},
   "outputs": [],
   "source": [
    "a= load_json_data('modified_cleaned_data.pickle')"
   ]
  },
  {
   "cell_type": "code",
   "execution_count": null,
   "id": "9478e131-ab26-4ca9-a051-eab544e36bf6",
   "metadata": {},
   "outputs": [],
   "source": [
    "a == movie_info"
   ]
  },
  {
   "cell_type": "markdown",
   "id": "6de0d418-0314-452e-bbc5-111748854d99",
   "metadata": {},
   "source": [
    "## Attach IMDB/Rotten Tomato/Metascore Rating"
   ]
  },
  {
   "cell_type": "code",
   "execution_count": null,
   "id": "8a055386-61bc-433d-a848-e7600bc6aa5a",
   "metadata": {},
   "outputs": [],
   "source": [
    "movie_info = load_json_data('modified_cleaned_data.pickle')"
   ]
  },
  {
   "cell_type": "code",
   "execution_count": null,
   "id": "b865a1c1-53f2-47aa-9ddb-f47b4d1a2860",
   "metadata": {},
   "outputs": [],
   "source": [
    "import urllib\n",
    "def get_omdb_info(title):\n",
    "    base_url = \"http://www.omdbapi.com/?\"\n",
    "    parameter = {\"apikey\": \"ff86d6db\", \"t\": title} \n",
    "    params_encoded = urllib.parse.urlencode(parameter)\n",
    "    full_url = base_url + params_encoded\n",
    "    return requests.get(full_url).json()\n",
    "\n",
    "info = get_omdb_info(\"into the woods\")\n",
    "\n",
    "\n",
    "def get_rotten_tomato_rating(omdb_info):\n",
    "     ratings = omdb_info.get('Ratings',[])\n",
    "     for rating in ratings:\n",
    "         if (rating['Source'] == 'Rotten Tomatoes'):\n",
    "             return rating['Value']\n",
    "     return None\n",
    "\n",
    "info = get_omdb_info(\"The Moon-Spinners\")\n",
    "print(info)\n",
    "# get_rotten_tomato_rating(info)"
   ]
  },
  {
   "cell_type": "code",
   "execution_count": null,
   "id": "f1964b18-8c99-4cb1-962a-b5dc4bafd54f",
   "metadata": {},
   "outputs": [],
   "source": [
    "for movie in movie_info:\n",
    "    title = movie['title']\n",
    "    omdb_info = get_omdb_info(title)\n",
    "    movie['imdbRating'] = omdb_info.get('imdbRating',None)\n",
    "    movie['metascore'] = omdb_info.get('Metascore', None)\n",
    "    movie['rotten_tomato'] = get_rotten_tomato_rating(omdb_info)"
   ]
  },
  {
   "cell_type": "code",
   "execution_count": null,
   "id": "ec167a7b-7e8a-4e09-ab89-58b8cc9f1e8f",
   "metadata": {},
   "outputs": [],
   "source": [
    "movie_info[2]"
   ]
  },
  {
   "cell_type": "code",
   "execution_count": null,
   "id": "df550193-3187-4558-be0a-79ffb6333bd4",
   "metadata": {},
   "outputs": [],
   "source": [
    "movie_info_copy = [movie.copy() for movie in movie_info]"
   ]
  },
  {
   "cell_type": "code",
   "execution_count": null,
   "id": "882a790a-e9c6-4dde-827c-676ef15acac1",
   "metadata": {},
   "outputs": [],
   "source": [
    "for movie in movie_info_copy:\n",
    "    current_date = movie[\"Release date (datetime)\"]\n",
    "    if current_date:\n",
    "        movie[\"Release date (datetime)\"] = current_date.strftime(\"%B %d, %Y\")\n",
    "    else:\n",
    "        movie[\"Release date (datetime)\"] = None"
   ]
  },
  {
   "cell_type": "code",
   "execution_count": null,
   "id": "0f7bdcd4-b1c4-44e8-a810-aa42bb3e52cc",
   "metadata": {},
   "outputs": [],
   "source": [
    "save_json_data(\"final_movie_info_json\", movie_info_copy)"
   ]
  },
  {
   "cell_type": "markdown",
   "id": "7a8fdf6b-7605-4c19-9ffd-8315562148d6",
   "metadata": {},
   "source": [
    "## Convert to csv"
   ]
  },
  {
   "cell_type": "code",
   "execution_count": null,
   "id": "ddcd5ca2-1120-47ba-8c39-bce633dfa972",
   "metadata": {},
   "outputs": [],
   "source": [
    "import pandas as pd\n",
    "\n",
    "df = pd.DataFrame(movie_info)"
   ]
  },
  {
   "cell_type": "markdown",
   "id": "f82ba1ae-4d68-4370-9c47-b0d00781f363",
   "metadata": {},
   "source": [
    "df.to_csv(\"final_movie_metadata.csv\")"
   ]
  }
 ],
 "metadata": {
  "kernelspec": {
   "display_name": "Python 3 (ipykernel)",
   "language": "python",
   "name": "python3"
  },
  "language_info": {
   "codemirror_mode": {
    "name": "ipython",
    "version": 3
   },
   "file_extension": ".py",
   "mimetype": "text/x-python",
   "name": "python",
   "nbconvert_exporter": "python",
   "pygments_lexer": "ipython3",
   "version": "3.12.4"
  }
 },
 "nbformat": 4,
 "nbformat_minor": 5
}
